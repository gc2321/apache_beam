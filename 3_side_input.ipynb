{
  "nbformat": 4,
  "nbformat_minor": 0,
  "metadata": {
    "colab": {
      "provenance": [],
      "authorship_tag": "ABX9TyPmkDMlPX5rjdo7gsj6vZvw",
      "include_colab_link": true
    },
    "kernelspec": {
      "name": "python3",
      "display_name": "Python 3"
    },
    "language_info": {
      "name": "python"
    }
  },
  "cells": [
    {
      "cell_type": "markdown",
      "metadata": {
        "id": "view-in-github",
        "colab_type": "text"
      },
      "source": [
        "<a href=\"https://colab.research.google.com/github/gc2321/apache_beam/blob/main/3_side_input.ipynb\" target=\"_parent\"><img src=\"https://colab.research.google.com/assets/colab-badge.svg\" alt=\"Open In Colab\"/></a>"
      ]
    },
    {
      "cell_type": "code",
      "source": [
        "#!{'pip install --quiet apache_beam'}"
      ],
      "metadata": {
        "colab": {
          "base_uri": "https://localhost:8080/"
        },
        "id": "Tw_O5nC6IlXH",
        "outputId": "637a0c0f-4376-4f69-c9e5-3c954a56e4e0"
      },
      "execution_count": 2,
      "outputs": [
        {
          "output_type": "stream",
          "name": "stdout",
          "text": [
            "\u001b[2K     \u001b[90m━━━━━━━━━━━━━━━━━━━━━━━━━━━━━━━━━━━━━━━━\u001b[0m \u001b[32m14.5/14.5 MB\u001b[0m \u001b[31m31.8 MB/s\u001b[0m eta \u001b[36m0:00:00\u001b[0m\n",
            "\u001b[2K     \u001b[90m━━━━━━━━━━━━━━━━━━━━━━━━━━━━━━━━━━━━━━━━\u001b[0m \u001b[32m89.7/89.7 kB\u001b[0m \u001b[31m6.9 MB/s\u001b[0m eta \u001b[36m0:00:00\u001b[0m\n",
            "\u001b[?25h  Preparing metadata (setup.py) ... \u001b[?25l\u001b[?25hdone\n",
            "\u001b[2K     \u001b[90m━━━━━━━━━━━━━━━━━━━━━━━━━━━━━━━━━━━━━━━━\u001b[0m \u001b[32m142.5/142.5 kB\u001b[0m \u001b[31m5.0 MB/s\u001b[0m eta \u001b[36m0:00:00\u001b[0m\n",
            "\u001b[2K     \u001b[90m━━━━━━━━━━━━━━━━━━━━━━━━━━━━━━━━━━━━━━━━\u001b[0m \u001b[32m152.0/152.0 kB\u001b[0m \u001b[31m13.3 MB/s\u001b[0m eta \u001b[36m0:00:00\u001b[0m\n",
            "\u001b[?25h  Preparing metadata (setup.py) ... \u001b[?25l\u001b[?25hdone\n",
            "\u001b[2K     \u001b[90m━━━━━━━━━━━━━━━━━━━━━━━━━━━━━━━━━━━━━━━━\u001b[0m \u001b[32m3.1/3.1 MB\u001b[0m \u001b[31m39.8 MB/s\u001b[0m eta \u001b[36m0:00:00\u001b[0m\n",
            "\u001b[2K     \u001b[90m━━━━━━━━━━━━━━━━━━━━━━━━━━━━━━━━━━━━━━━━\u001b[0m \u001b[32m43.5/43.5 kB\u001b[0m \u001b[31m3.6 MB/s\u001b[0m eta \u001b[36m0:00:00\u001b[0m\n",
            "\u001b[?25h  Preparing metadata (setup.py) ... \u001b[?25l\u001b[?25hdone\n",
            "\u001b[2K     \u001b[90m━━━━━━━━━━━━━━━━━━━━━━━━━━━━━━━━━━━━━━━━\u001b[0m \u001b[32m670.0/670.0 kB\u001b[0m \u001b[31m17.1 MB/s\u001b[0m eta \u001b[36m0:00:00\u001b[0m\n",
            "\u001b[2K     \u001b[90m━━━━━━━━━━━━━━━━━━━━━━━━━━━━━━━━━━━━━━━━\u001b[0m \u001b[32m252.0/252.0 kB\u001b[0m \u001b[31m12.0 MB/s\u001b[0m eta \u001b[36m0:00:00\u001b[0m\n",
            "\u001b[2K     \u001b[90m━━━━━━━━━━━━━━━━━━━━━━━━━━━━━━━━━━━━━━━━\u001b[0m \u001b[32m5.4/5.4 MB\u001b[0m \u001b[31m41.8 MB/s\u001b[0m eta \u001b[36m0:00:00\u001b[0m\n",
            "\u001b[2K     \u001b[90m━━━━━━━━━━━━━━━━━━━━━━━━━━━━━━━━━━━━━━━━\u001b[0m \u001b[32m1.0/1.0 MB\u001b[0m \u001b[31m28.5 MB/s\u001b[0m eta \u001b[36m0:00:00\u001b[0m\n",
            "\u001b[?25h  Preparing metadata (setup.py) ... \u001b[?25l\u001b[?25hdone\n",
            "  Preparing metadata (setup.py) ... \u001b[?25l\u001b[?25hdone\n",
            "\u001b[2K     \u001b[90m━━━━━━━━━━━━━━━━━━━━━━━━━━━━━━━━━━━━━━━━\u001b[0m \u001b[32m307.7/307.7 kB\u001b[0m \u001b[31m21.4 MB/s\u001b[0m eta \u001b[36m0:00:00\u001b[0m\n",
            "\u001b[?25h  Building wheel for crcmod (setup.py) ... \u001b[?25l\u001b[?25hdone\n",
            "  Building wheel for dill (setup.py) ... \u001b[?25l\u001b[?25hdone\n",
            "  Building wheel for hdfs (setup.py) ... \u001b[?25l\u001b[?25hdone\n",
            "  Building wheel for pyjsparser (setup.py) ... \u001b[?25l\u001b[?25hdone\n",
            "  Building wheel for docopt (setup.py) ... \u001b[?25l\u001b[?25hdone\n"
          ]
        }
      ]
    },
    {
      "cell_type": "code",
      "source": [
        "#!{'pip install --quiet apache-beam[interactive]'}"
      ],
      "metadata": {
        "id": "dQrvKQJuJ0nK",
        "colab": {
          "base_uri": "https://localhost:8080/"
        },
        "outputId": "f80dae73-ad3c-4b61-a218-3cd5a0e9d530"
      },
      "execution_count": 3,
      "outputs": [
        {
          "output_type": "stream",
          "name": "stdout",
          "text": [
            "\u001b[2K     \u001b[90m━━━━━━━━━━━━━━━━━━━━━━━━━━━━━━━━━━━━━━━━\u001b[0m \u001b[32m406.3/406.3 kB\u001b[0m \u001b[31m5.8 MB/s\u001b[0m eta \u001b[36m0:00:00\u001b[0m\n",
            "\u001b[2K     \u001b[90m━━━━━━━━━━━━━━━━━━━━━━━━━━━━━━━━━━━━━━━━\u001b[0m \u001b[32m816.5/816.5 kB\u001b[0m \u001b[31m9.0 MB/s\u001b[0m eta \u001b[36m0:00:00\u001b[0m\n",
            "\u001b[2K     \u001b[90m━━━━━━━━━━━━━━━━━━━━━━━━━━━━━━━━━━━━━━━━\u001b[0m \u001b[32m117.1/117.1 kB\u001b[0m \u001b[31m6.8 MB/s\u001b[0m eta \u001b[36m0:00:00\u001b[0m\n",
            "\u001b[2K     \u001b[90m━━━━━━━━━━━━━━━━━━━━━━━━━━━━━━━━━━━━━━━━\u001b[0m \u001b[32m139.4/139.4 kB\u001b[0m \u001b[31m8.6 MB/s\u001b[0m eta \u001b[36m0:00:00\u001b[0m\n",
            "\u001b[?25h  Preparing metadata (setup.py) ... \u001b[?25l\u001b[?25hdone\n",
            "\u001b[2K     \u001b[90m━━━━━━━━━━━━━━━━━━━━━━━━━━━━━━━━━━━━━━━━\u001b[0m \u001b[32m1.6/1.6 MB\u001b[0m \u001b[31m15.1 MB/s\u001b[0m eta \u001b[36m0:00:00\u001b[0m\n",
            "\u001b[2K     \u001b[90m━━━━━━━━━━━━━━━━━━━━━━━━━━━━━━━━━━━━━━━━\u001b[0m \u001b[32m85.4/85.4 kB\u001b[0m \u001b[31m1.5 MB/s\u001b[0m eta \u001b[36m0:00:00\u001b[0m\n",
            "\u001b[2K     \u001b[90m━━━━━━━━━━━━━━━━━━━━━━━━━━━━━━━━━━━━━━━━\u001b[0m \u001b[32m2.3/2.3 MB\u001b[0m \u001b[31m20.9 MB/s\u001b[0m eta \u001b[36m0:00:00\u001b[0m\n",
            "\u001b[?25h  Building wheel for timeloop (setup.py) ... \u001b[?25l\u001b[?25hdone\n",
            "\u001b[31mERROR: pip's dependency resolver does not currently take into account all the packages that are installed. This behaviour is the source of the following dependency conflicts.\n",
            "google-colab 1.0.0 requires ipykernel==5.5.6, but you have ipykernel 6.29.4 which is incompatible.\n",
            "google-colab 1.0.0 requires ipython==7.34.0, but you have ipython 8.24.0 which is incompatible.\u001b[0m\u001b[31m\n",
            "\u001b[0m"
          ]
        }
      ]
    },
    {
      "cell_type": "code",
      "source": [
        "import apache_beam as beam"
      ],
      "metadata": {
        "id": "70K4b59BIRg9"
      },
      "execution_count": 6,
      "outputs": []
    },
    {
      "cell_type": "markdown",
      "source": [
        "## Advance Combine"
      ],
      "metadata": {
        "id": "Gk05nbq658AR"
      }
    },
    {
      "cell_type": "code",
      "source": [
        "class AverageFn(beam.CombineFn):\n",
        "\n",
        "  def create_accumulator(self):\n",
        "     return (0.0, 0)   # initialize (sum, count)\n",
        "\n",
        "  def add_input(self, sum_count, input):\n",
        "    (sum, count) = sum_count\n",
        "    return sum + input, count + 1\n",
        "\n",
        "  def merge_accumulators(self, accumulators):\n",
        "\n",
        "    ind_sums, ind_counts = zip(*accumulators)       # zip - [(27, 3), (39, 3), (18, 2)]  -->   [(27,39,18), (3,3,2)]\n",
        "    return sum(ind_sums), sum(ind_counts)        # (84,8)\n",
        "\n",
        "  def extract_output(self, sum_count):\n",
        "\n",
        "    (sum, count) = sum_count    # combine globally using CombineFn\n",
        "    return sum / count if count else float('NaN')\n",
        "\n",
        "p = beam.Pipeline()\n",
        "small_sum = (\n",
        "    p\n",
        "    | beam.Create([15,5,7,7,9,23,13,5])\n",
        "    | \"Combine Globally\" >> beam.CombineGlobally(AverageFn())\n",
        "    | \"Write Result\" >> beam.io.WriteToText('data/combine')\n",
        ")\n",
        "\n",
        "p.run()"
      ],
      "metadata": {
        "id": "nNe86C9y37d6"
      },
      "execution_count": 9,
      "outputs": []
    },
    {
      "cell_type": "code",
      "source": [
        "!head -n 20 data/combine-00000-of-00001"
      ],
      "metadata": {
        "colab": {
          "base_uri": "https://localhost:8080/"
        },
        "id": "99Zhni764wzY",
        "outputId": "ba409407-c160-4ec4-9929-663b73eed2cc"
      },
      "execution_count": 11,
      "outputs": [
        {
          "output_type": "stream",
          "name": "stdout",
          "text": [
            "10.5\n"
          ]
        }
      ]
    },
    {
      "cell_type": "markdown",
      "source": [
        "## Composite Transforms"
      ],
      "metadata": {
        "id": "rdYSzFd1Dfk3"
      }
    },
    {
      "cell_type": "code",
      "source": [
        "# Mount Google drive\n",
        "from google.colab import drive\n",
        "drive.mount('/content/gdrive')"
      ],
      "metadata": {
        "colab": {
          "base_uri": "https://localhost:8080/"
        },
        "id": "5MtvqQjWM7A_",
        "outputId": "b718379b-8e2b-4895-e6c1-0b0e34993686"
      },
      "execution_count": 12,
      "outputs": [
        {
          "output_type": "stream",
          "name": "stdout",
          "text": [
            "Mounted at /content/gdrive\n"
          ]
        }
      ]
    },
    {
      "cell_type": "code",
      "source": [
        "import fileinput\n",
        "filePath =\"/content/gdrive/MyDrive/beam/dept_data.txt\""
      ],
      "metadata": {
        "id": "oxKFzGRWNAgS"
      },
      "execution_count": 13,
      "outputs": []
    },
    {
      "cell_type": "code",
      "source": [],
      "metadata": {
        "id": "2RptRcmtYyfZ"
      },
      "execution_count": null,
      "outputs": []
    },
    {
      "cell_type": "code",
      "source": [
        "class DeptTransform(beam.PTransform):\n",
        "  def expand(self, input_coll):\n",
        "    a = (\n",
        "        input_coll\n",
        "        | 'Group and Combine' >> beam.CombinePerKey(sum)\n",
        "        | 'Count Filter Accounts' >> beam.Filter(filter_on_count)\n",
        "        | 'Regular accounts employee' >> beam.Map(format_output)\n",
        "    )\n",
        "    return a\n",
        "\n",
        "def filter_on_count(element):\n",
        "  name, count = element\n",
        "  if count > 30:\n",
        "    return element\n",
        "\n",
        "def format_output(element):\n",
        "  name, count = element\n",
        "  #return ', '.join((name.encode('ascii'),str(count),'Regular employee'))\n",
        "  return ', '.join((name,str(count),'Regular employee'))\n",
        "\n",
        "# ParDo\n",
        "class SplitRow(beam.DoFn):\n",
        "  def process(self, element):\n",
        "    return [element.split(',')]\n",
        "\n",
        "class FilterAccountsEmployee(beam.DoFn):\n",
        "  def __init__(self, acc):\n",
        "        self.acc = acc\n",
        "\n",
        "  def process(self, element):\n",
        "    if element[3] == self.acc:\n",
        "      return [element]\n",
        "\n",
        "class PairEmployee(beam.DoFn):\n",
        "  def process(self, element):\n",
        "    return [(element[3] + \",\" + element[1], 1)]\n",
        "\n",
        "class Counting(beam.DoFn):\n",
        "  def process(self, element):\n",
        "    (key, values) = element\n",
        "    return [(key, sum(values))]"
      ],
      "metadata": {
        "id": "U-XUqsGYY2d-"
      },
      "execution_count": 14,
      "outputs": []
    },
    {
      "cell_type": "code",
      "source": [
        "p = beam.Pipeline()\n",
        "\n",
        "\n",
        "input_collection = (\n",
        "                      p\n",
        "                      | \"Read from text file\" >> beam.io.ReadFromText(filePath)\n",
        "                      | \"Split rows\" >> beam.ParDo(SplitRow())\n",
        "                   )\n",
        "\n",
        "accounts_count = (\n",
        "                      input_collection\n",
        "                      | 'Get all Accounts dept persons' >> beam.ParDo(FilterAccountsEmployee('Accounts'))\n",
        "                      | 'Pair each accounts employee with 1' >> beam.ParDo(PairEmployee())\n",
        "                      | 'Composite Transform ACC' >> DeptTransform()\n",
        "                 )\n",
        "\n",
        "hr_count = (\n",
        "                input_collection\n",
        "                | 'Get all HR dept persons' >> beam.ParDo(FilterAccountsEmployee('HR'))\n",
        "                | 'Pair each hr employee with 1' >> beam.ParDo(PairEmployee())\n",
        "                | 'Composite Transform HR' >> DeptTransform()\n",
        "           )\n",
        "\n",
        "output =(\n",
        "         (accounts_count,hr_count)\n",
        "          | beam.Flatten()\n",
        "          | beam.io.WriteToText('data/both')\n",
        ")\n",
        "\n",
        "p.run()"
      ],
      "metadata": {
        "id": "MXPHVk9nY7h5",
        "colab": {
          "base_uri": "https://localhost:8080/"
        },
        "outputId": "537726ab-2727-46b7-d4fa-9860268b2d63"
      },
      "execution_count": 18,
      "outputs": [
        {
          "output_type": "stream",
          "name": "stderr",
          "text": [
            "WARNING:apache_beam.io.filebasedsink:Deleting 1 existing files in target path matching: -*-of-%(num_shards)05d\n"
          ]
        },
        {
          "output_type": "execute_result",
          "data": {
            "text/plain": [
              "<apache_beam.runners.portability.fn_api_runner.fn_runner.RunnerResult at 0x7a514a24b340>"
            ]
          },
          "metadata": {},
          "execution_count": 18
        }
      ]
    },
    {
      "cell_type": "code",
      "source": [
        "!head -n 20 data/both-00000-of-00001"
      ],
      "metadata": {
        "id": "r6PjbaSFZV2T",
        "outputId": "b2e4cdb4-53d9-4672-fc9b-db8fdd58a466",
        "colab": {
          "base_uri": "https://localhost:8080/"
        }
      },
      "execution_count": 19,
      "outputs": [
        {
          "output_type": "stream",
          "name": "stdout",
          "text": [
            "Accounts,Marco, 31, Regular employee\n",
            "Accounts,Rebekah, 31, Regular employee\n",
            "Accounts,Itoe, 31, Regular employee\n",
            "Accounts,Edouard, 31, Regular employee\n",
            "Accounts,Kyle, 62, Regular employee\n",
            "Accounts,Kumiko, 31, Regular employee\n",
            "Accounts,Gaston, 31, Regular employee\n",
            "HR,Beryl, 62, Regular employee\n",
            "HR,Olga, 31, Regular employee\n",
            "HR,Leslie, 31, Regular employee\n",
            "HR,Mindy, 31, Regular employee\n",
            "HR,Vicky, 31, Regular employee\n",
            "HR,Richard, 31, Regular employee\n",
            "HR,Kirk, 31, Regular employee\n",
            "HR,Kaori, 31, Regular employee\n",
            "HR,Oscar, 31, Regular employee\n"
          ]
        }
      ]
    },
    {
      "cell_type": "markdown",
      "source": [
        "## Co-Group By Key"
      ],
      "metadata": {
        "id": "aJPcYSjOGccA"
      }
    },
    {
      "cell_type": "code",
      "source": [
        "deptData =\"/content/gdrive/MyDrive/beam/dept_data.txt\"\n",
        "locationData = \"/content/gdrive/MyDrive/beam/location.txt\""
      ],
      "metadata": {
        "id": "pLOH77hxZZ5v"
      },
      "execution_count": 20,
      "outputs": []
    },
    {
      "cell_type": "code",
      "source": [
        "p1 = beam.Pipeline()\n",
        "\n",
        "def retTuple(element):\n",
        "  thisTuple=element.split(',')\n",
        "  return (thisTuple[0], thisTuple[1:])\n",
        "\n",
        "# Apply a ParDo to the PCollection \"words\" to compute lengths for each word.\n",
        "dep_rows = (\n",
        "                p1\n",
        "                | \"Reading File 1\" >> beam.io.ReadFromText(deptData)\n",
        "                | 'Pair each employee with key' >> beam.Map(retTuple)          # {149633CM : [Marco,10,Accounts,1-01-2019]}\n",
        "               )\n",
        "\n",
        "\n",
        "loc_rows = (\n",
        "                p1\n",
        "                | \"Reading File 2\" >> beam.io.ReadFromText(locationData)\n",
        "                | 'Pair each loc with key' >> beam.Map(retTuple)                # {149633CM : [9876843261,New York]}\n",
        "               )\n",
        "\n",
        "\n",
        "results = ({'dep_data': dep_rows, 'loc_data': loc_rows}\n",
        "           | beam.CoGroupByKey()\n",
        "           | 'Write results' >> beam.io.WriteToText('data/result')\n",
        "          )\n",
        "\n",
        "\n",
        "p1.run()\n",
        "\n",
        "!{('head -n 20 data/result-00000-of-00001')}"
      ],
      "metadata": {
        "colab": {
          "base_uri": "https://localhost:8080/"
        },
        "id": "btCbys3cH-_H",
        "outputId": "dd49317e-df2d-43e1-83ee-3108574562f2"
      },
      "execution_count": 21,
      "outputs": [
        {
          "output_type": "stream",
          "name": "stdout",
          "text": [
            "('149633CM', {'dep_data': [['Marco', '10', 'Accounts', '1-01-2019'], ['Marco', '10', 'Accounts', '2-01-2019'], ['Marco', '10', 'Accounts', '3-01-2019'], ['Marco', '10', 'Accounts', '4-01-2019'], ['Marco', '10', 'Accounts', '5-01-2019'], ['Marco', '10', 'Accounts', '6-01-2019'], ['Marco', '10', 'Accounts', '7-01-2019'], ['Marco', '10', 'Accounts', '8-01-2019'], ['Marco', '10', 'Accounts', '9-01-2019'], ['Marco', '10', 'Accounts', '10-01-2019'], ['Marco', '10', 'Accounts', '11-01-2019'], ['Marco', '10', 'Accounts', '12-01-2019'], ['Marco', '10', 'Accounts', '13-01-2019'], ['Marco', '10', 'Accounts', '14-01-2019'], ['Marco', '10', 'Accounts', '15-01-2019'], ['Marco', '10', 'Accounts', '16-01-2019'], ['Marco', '10', 'Accounts', '17-01-2019'], ['Marco', '10', 'Accounts', '18-01-2019'], ['Marco', '10', 'Accounts', '19-01-2019'], ['Marco', '10', 'Accounts', '20-01-2019'], ['Marco', '10', 'Accounts', '21-01-2019'], ['Marco', '10', 'Accounts', '22-01-2019'], ['Marco', '10', 'Accounts', '23-01-2019'], ['Marco', '10', 'Accounts', '24-01-2019'], ['Marco', '10', 'Accounts', '25-01-2019'], ['Marco', '10', 'Accounts', '26-01-2019'], ['Marco', '10', 'Accounts', '27-01-2019'], ['Marco', '10', 'Accounts', '28-01-2019'], ['Marco', '10', 'Accounts', '29-01-2019'], ['Marco', '10', 'Accounts', '30-01-2019'], ['Marco', '10', 'Accounts', '31-01-2019']], 'loc_data': [['9876843261', 'New York'], ['9204232778', 'New York']]})\n",
            "('212539MU', {'dep_data': [['Rebekah', '10', 'Accounts', '1-01-2019'], ['Rebekah', '10', 'Accounts', '2-01-2019'], ['Rebekah', '10', 'Accounts', '3-01-2019'], ['Rebekah', '10', 'Accounts', '4-01-2019'], ['Rebekah', '10', 'Accounts', '5-01-2019'], ['Rebekah', '10', 'Accounts', '6-01-2019'], ['Rebekah', '10', 'Accounts', '7-01-2019'], ['Rebekah', '10', 'Accounts', '8-01-2019'], ['Rebekah', '10', 'Accounts', '9-01-2019'], ['Rebekah', '10', 'Accounts', '10-01-2019'], ['Rebekah', '10', 'Accounts', '11-01-2019'], ['Rebekah', '10', 'Accounts', '12-01-2019'], ['Rebekah', '10', 'Accounts', '13-01-2019'], ['Rebekah', '10', 'Accounts', '14-01-2019'], ['Rebekah', '10', 'Accounts', '15-01-2019'], ['Rebekah', '10', 'Accounts', '16-01-2019'], ['Rebekah', '10', 'Accounts', '17-01-2019'], ['Rebekah', '10', 'Accounts', '18-01-2019'], ['Rebekah', '10', 'Accounts', '19-01-2019'], ['Rebekah', '10', 'Accounts', '20-01-2019'], ['Rebekah', '10', 'Accounts', '21-01-2019'], ['Rebekah', '10', 'Accounts', '22-01-2019'], ['Rebekah', '10', 'Accounts', '23-01-2019'], ['Rebekah', '10', 'Accounts', '24-01-2019'], ['Rebekah', '10', 'Accounts', '25-01-2019'], ['Rebekah', '10', 'Accounts', '26-01-2019'], ['Rebekah', '10', 'Accounts', '27-01-2019'], ['Rebekah', '10', 'Accounts', '28-01-2019'], ['Rebekah', '10', 'Accounts', '29-01-2019'], ['Rebekah', '10', 'Accounts', '30-01-2019'], ['Rebekah', '10', 'Accounts', '31-01-2019']], 'loc_data': [['9995440673', 'Denver']]})\n",
            "('231555ZZ', {'dep_data': [['Itoe', '10', 'Accounts', '1-01-2019'], ['Itoe', '10', 'Accounts', '2-01-2019'], ['Itoe', '10', 'Accounts', '3-01-2019'], ['Itoe', '10', 'Accounts', '4-01-2019'], ['Itoe', '10', 'Accounts', '5-01-2019'], ['Itoe', '10', 'Accounts', '6-01-2019'], ['Itoe', '10', 'Accounts', '7-01-2019'], ['Itoe', '10', 'Accounts', '8-01-2019'], ['Itoe', '10', 'Accounts', '9-01-2019'], ['Itoe', '10', 'Accounts', '10-01-2019'], ['Itoe', '10', 'Accounts', '11-01-2019'], ['Itoe', '10', 'Accounts', '12-01-2019'], ['Itoe', '10', 'Accounts', '13-01-2019'], ['Itoe', '10', 'Accounts', '14-01-2019'], ['Itoe', '10', 'Accounts', '15-01-2019'], ['Itoe', '10', 'Accounts', '16-01-2019'], ['Itoe', '10', 'Accounts', '17-01-2019'], ['Itoe', '10', 'Accounts', '18-01-2019'], ['Itoe', '10', 'Accounts', '19-01-2019'], ['Itoe', '10', 'Accounts', '20-01-2019'], ['Itoe', '10', 'Accounts', '21-01-2019'], ['Itoe', '10', 'Accounts', '22-01-2019'], ['Itoe', '10', 'Accounts', '23-01-2019'], ['Itoe', '10', 'Accounts', '24-01-2019'], ['Itoe', '10', 'Accounts', '25-01-2019'], ['Itoe', '10', 'Accounts', '26-01-2019'], ['Itoe', '10', 'Accounts', '27-01-2019'], ['Itoe', '10', 'Accounts', '28-01-2019'], ['Itoe', '10', 'Accounts', '29-01-2019'], ['Itoe', '10', 'Accounts', '30-01-2019'], ['Itoe', '10', 'Accounts', '31-01-2019']], 'loc_data': [['9196597290', 'Boston']]})\n",
            "('503996WI', {'dep_data': [['Edouard', '10', 'Accounts', '1-01-2019'], ['Edouard', '10', 'Accounts', '2-01-2019'], ['Edouard', '10', 'Accounts', '3-01-2019'], ['Edouard', '10', 'Accounts', '4-01-2019'], ['Edouard', '10', 'Accounts', '5-01-2019'], ['Edouard', '10', 'Accounts', '6-01-2019'], ['Edouard', '10', 'Accounts', '7-01-2019'], ['Edouard', '10', 'Accounts', '8-01-2019'], ['Edouard', '10', 'Accounts', '9-01-2019'], ['Edouard', '10', 'Accounts', '10-01-2019'], ['Edouard', '10', 'Accounts', '11-01-2019'], ['Edouard', '10', 'Accounts', '12-01-2019'], ['Edouard', '10', 'Accounts', '13-01-2019'], ['Edouard', '10', 'Accounts', '14-01-2019'], ['Edouard', '10', 'Accounts', '15-01-2019'], ['Edouard', '10', 'Accounts', '16-01-2019'], ['Edouard', '10', 'Accounts', '17-01-2019'], ['Edouard', '10', 'Accounts', '18-01-2019'], ['Edouard', '10', 'Accounts', '19-01-2019'], ['Edouard', '10', 'Accounts', '20-01-2019'], ['Edouard', '10', 'Accounts', '21-01-2019'], ['Edouard', '10', 'Accounts', '22-01-2019'], ['Edouard', '10', 'Accounts', '23-01-2019'], ['Edouard', '10', 'Accounts', '24-01-2019'], ['Edouard', '10', 'Accounts', '25-01-2019'], ['Edouard', '10', 'Accounts', '26-01-2019'], ['Edouard', '10', 'Accounts', '27-01-2019'], ['Edouard', '10', 'Accounts', '28-01-2019'], ['Edouard', '10', 'Accounts', '29-01-2019'], ['Edouard', '10', 'Accounts', '30-01-2019'], ['Edouard', '10', 'Accounts', '31-01-2019']], 'loc_data': [['9468234252', 'Miami']]})\n",
            "('704275DC', {'dep_data': [['Kyle', '10', 'Accounts', '1-01-2019'], ['Kyle', '10', 'Accounts', '2-01-2019'], ['Kyle', '10', 'Accounts', '3-01-2019'], ['Kyle', '10', 'Accounts', '4-01-2019'], ['Kyle', '10', 'Accounts', '5-01-2019'], ['Kyle', '10', 'Accounts', '6-01-2019'], ['Kyle', '10', 'Accounts', '7-01-2019'], ['Kyle', '10', 'Accounts', '8-01-2019'], ['Kyle', '10', 'Accounts', '9-01-2019'], ['Kyle', '10', 'Accounts', '10-01-2019'], ['Kyle', '10', 'Accounts', '11-01-2019'], ['Kyle', '10', 'Accounts', '12-01-2019'], ['Kyle', '10', 'Accounts', '13-01-2019'], ['Kyle', '10', 'Accounts', '14-01-2019'], ['Kyle', '10', 'Accounts', '15-01-2019'], ['Kyle', '10', 'Accounts', '16-01-2019'], ['Kyle', '10', 'Accounts', '17-01-2019'], ['Kyle', '10', 'Accounts', '18-01-2019'], ['Kyle', '10', 'Accounts', '19-01-2019'], ['Kyle', '10', 'Accounts', '20-01-2019'], ['Kyle', '10', 'Accounts', '21-01-2019'], ['Kyle', '10', 'Accounts', '22-01-2019'], ['Kyle', '10', 'Accounts', '23-01-2019'], ['Kyle', '10', 'Accounts', '24-01-2019'], ['Kyle', '10', 'Accounts', '25-01-2019'], ['Kyle', '10', 'Accounts', '26-01-2019'], ['Kyle', '10', 'Accounts', '27-01-2019'], ['Kyle', '10', 'Accounts', '28-01-2019'], ['Kyle', '10', 'Accounts', '29-01-2019'], ['Kyle', '10', 'Accounts', '30-01-2019'], ['Kyle', '10', 'Accounts', '31-01-2019']], 'loc_data': [['9776235961', 'Miami']]})\n",
            "('957149WC', {'dep_data': [['Kyle', '10', 'Accounts', '1-01-2019'], ['Kyle', '10', 'Accounts', '2-01-2019'], ['Kyle', '10', 'Accounts', '3-01-2019'], ['Kyle', '10', 'Accounts', '4-01-2019'], ['Kyle', '10', 'Accounts', '5-01-2019'], ['Kyle', '10', 'Accounts', '6-01-2019'], ['Kyle', '10', 'Accounts', '7-01-2019'], ['Kyle', '10', 'Accounts', '8-01-2019'], ['Kyle', '10', 'Accounts', '9-01-2019'], ['Kyle', '10', 'Accounts', '10-01-2019'], ['Kyle', '10', 'Accounts', '11-01-2019'], ['Kyle', '10', 'Accounts', '12-01-2019'], ['Kyle', '10', 'Accounts', '13-01-2019'], ['Kyle', '10', 'Accounts', '14-01-2019'], ['Kyle', '10', 'Accounts', '15-01-2019'], ['Kyle', '10', 'Accounts', '16-01-2019'], ['Kyle', '10', 'Accounts', '17-01-2019'], ['Kyle', '10', 'Accounts', '18-01-2019'], ['Kyle', '10', 'Accounts', '19-01-2019'], ['Kyle', '10', 'Accounts', '20-01-2019'], ['Kyle', '10', 'Accounts', '21-01-2019'], ['Kyle', '10', 'Accounts', '22-01-2019'], ['Kyle', '10', 'Accounts', '23-01-2019'], ['Kyle', '10', 'Accounts', '24-01-2019'], ['Kyle', '10', 'Accounts', '25-01-2019'], ['Kyle', '10', 'Accounts', '26-01-2019'], ['Kyle', '10', 'Accounts', '27-01-2019'], ['Kyle', '10', 'Accounts', '28-01-2019'], ['Kyle', '10', 'Accounts', '29-01-2019'], ['Kyle', '10', 'Accounts', '30-01-2019'], ['Kyle', '10', 'Accounts', '31-01-2019']], 'loc_data': [['9925595092', 'Houston']]})\n",
            "('241316NX', {'dep_data': [['Kumiko', '10', 'Accounts', '1-01-2019'], ['Kumiko', '10', 'Accounts', '2-01-2019'], ['Kumiko', '10', 'Accounts', '3-01-2019'], ['Kumiko', '10', 'Accounts', '4-01-2019'], ['Kumiko', '10', 'Accounts', '5-01-2019'], ['Kumiko', '10', 'Accounts', '6-01-2019'], ['Kumiko', '10', 'Accounts', '7-01-2019'], ['Kumiko', '10', 'Accounts', '8-01-2019'], ['Kumiko', '10', 'Accounts', '9-01-2019'], ['Kumiko', '10', 'Accounts', '10-01-2019'], ['Kumiko', '10', 'Accounts', '11-01-2019'], ['Kumiko', '10', 'Accounts', '12-01-2019'], ['Kumiko', '10', 'Accounts', '13-01-2019'], ['Kumiko', '10', 'Accounts', '14-01-2019'], ['Kumiko', '10', 'Accounts', '15-01-2019'], ['Kumiko', '10', 'Accounts', '16-01-2019'], ['Kumiko', '10', 'Accounts', '17-01-2019'], ['Kumiko', '10', 'Accounts', '18-01-2019'], ['Kumiko', '10', 'Accounts', '19-01-2019'], ['Kumiko', '10', 'Accounts', '20-01-2019'], ['Kumiko', '10', 'Accounts', '21-01-2019'], ['Kumiko', '10', 'Accounts', '22-01-2019'], ['Kumiko', '10', 'Accounts', '23-01-2019'], ['Kumiko', '10', 'Accounts', '24-01-2019'], ['Kumiko', '10', 'Accounts', '25-01-2019'], ['Kumiko', '10', 'Accounts', '26-01-2019'], ['Kumiko', '10', 'Accounts', '27-01-2019'], ['Kumiko', '10', 'Accounts', '28-01-2019'], ['Kumiko', '10', 'Accounts', '29-01-2019'], ['Kumiko', '10', 'Accounts', '30-01-2019'], ['Kumiko', '10', 'Accounts', '31-01-2019']], 'loc_data': [['9837402343', 'Boston']]})\n",
            "('796656IE', {'dep_data': [['Gaston', '10', 'Accounts', '1-01-2019'], ['Gaston', '10', 'Accounts', '2-01-2019'], ['Gaston', '10', 'Accounts', '3-01-2019'], ['Gaston', '10', 'Accounts', '4-01-2019'], ['Gaston', '10', 'Accounts', '5-01-2019'], ['Gaston', '10', 'Accounts', '6-01-2019'], ['Gaston', '10', 'Accounts', '7-01-2019'], ['Gaston', '10', 'Accounts', '8-01-2019'], ['Gaston', '10', 'Accounts', '9-01-2019'], ['Gaston', '10', 'Accounts', '10-01-2019'], ['Gaston', '10', 'Accounts', '11-01-2019'], ['Gaston', '10', 'Accounts', '12-01-2019'], ['Gaston', '10', 'Accounts', '13-01-2019'], ['Gaston', '10', 'Accounts', '14-01-2019'], ['Gaston', '10', 'Accounts', '15-01-2019'], ['Gaston', '10', 'Accounts', '16-01-2019'], ['Gaston', '10', 'Accounts', '17-01-2019'], ['Gaston', '10', 'Accounts', '18-01-2019'], ['Gaston', '10', 'Accounts', '19-01-2019'], ['Gaston', '10', 'Accounts', '20-01-2019'], ['Gaston', '10', 'Accounts', '21-01-2019'], ['Gaston', '10', 'Accounts', '22-01-2019'], ['Gaston', '10', 'Accounts', '23-01-2019'], ['Gaston', '10', 'Accounts', '24-01-2019'], ['Gaston', '10', 'Accounts', '25-01-2019'], ['Gaston', '10', 'Accounts', '26-01-2019'], ['Gaston', '10', 'Accounts', '27-01-2019'], ['Gaston', '10', 'Accounts', '28-01-2019'], ['Gaston', '10', 'Accounts', '29-01-2019'], ['Gaston', '10', 'Accounts', '30-01-2019'], ['Gaston', '10', 'Accounts', '31-01-2019']], 'loc_data': [['9538848876', 'Houston']]})\n",
            "('331593PS', {'dep_data': [['Beryl', '20', 'HR', '1-01-2019'], ['Beryl', '20', 'HR', '2-01-2019'], ['Beryl', '20', 'HR', '3-01-2019'], ['Beryl', '20', 'HR', '4-01-2019'], ['Beryl', '20', 'HR', '5-01-2019'], ['Beryl', '20', 'HR', '6-01-2019'], ['Beryl', '20', 'HR', '7-01-2019'], ['Beryl', '20', 'HR', '8-01-2019'], ['Beryl', '20', 'HR', '9-01-2019'], ['Beryl', '20', 'HR', '10-01-2019'], ['Beryl', '20', 'HR', '11-01-2019'], ['Beryl', '20', 'HR', '12-01-2019'], ['Beryl', '20', 'HR', '13-01-2019'], ['Beryl', '20', 'HR', '14-01-2019'], ['Beryl', '20', 'HR', '15-01-2019'], ['Beryl', '20', 'HR', '16-01-2019'], ['Beryl', '20', 'HR', '17-01-2019'], ['Beryl', '20', 'HR', '18-01-2019'], ['Beryl', '20', 'HR', '19-01-2019'], ['Beryl', '20', 'HR', '20-01-2019'], ['Beryl', '20', 'HR', '21-01-2019'], ['Beryl', '20', 'HR', '22-01-2019'], ['Beryl', '20', 'HR', '23-01-2019'], ['Beryl', '20', 'HR', '24-01-2019'], ['Beryl', '20', 'HR', '25-01-2019'], ['Beryl', '20', 'HR', '26-01-2019'], ['Beryl', '20', 'HR', '27-01-2019'], ['Beryl', '20', 'HR', '28-01-2019'], ['Beryl', '20', 'HR', '29-01-2019'], ['Beryl', '20', 'HR', '30-01-2019'], ['Beryl', '20', 'HR', '31-01-2019']], 'loc_data': [['9137216186', 'Miami']]})\n",
            "('560447WH', {'dep_data': [['Olga', '20', 'HR', '1-01-2019'], ['Olga', '20', 'HR', '2-01-2019'], ['Olga', '20', 'HR', '3-01-2019'], ['Olga', '20', 'HR', '4-01-2019'], ['Olga', '20', 'HR', '5-01-2019'], ['Olga', '20', 'HR', '6-01-2019'], ['Olga', '20', 'HR', '7-01-2019'], ['Olga', '20', 'HR', '8-01-2019'], ['Olga', '20', 'HR', '9-01-2019'], ['Olga', '20', 'HR', '10-01-2019'], ['Olga', '20', 'HR', '11-01-2019'], ['Olga', '20', 'HR', '12-01-2019'], ['Olga', '20', 'HR', '13-01-2019'], ['Olga', '20', 'HR', '14-01-2019'], ['Olga', '20', 'HR', '15-01-2019'], ['Olga', '20', 'HR', '16-01-2019'], ['Olga', '20', 'HR', '17-01-2019'], ['Olga', '20', 'HR', '18-01-2019'], ['Olga', '20', 'HR', '19-01-2019'], ['Olga', '20', 'HR', '20-01-2019'], ['Olga', '20', 'HR', '21-01-2019'], ['Olga', '20', 'HR', '22-01-2019'], ['Olga', '20', 'HR', '23-01-2019'], ['Olga', '20', 'HR', '24-01-2019'], ['Olga', '20', 'HR', '25-01-2019'], ['Olga', '20', 'HR', '26-01-2019'], ['Olga', '20', 'HR', '27-01-2019'], ['Olga', '20', 'HR', '28-01-2019'], ['Olga', '20', 'HR', '29-01-2019'], ['Olga', '20', 'HR', '30-01-2019'], ['Olga', '20', 'HR', '31-01-2019']], 'loc_data': [['9708010864', 'Miami']]})\n",
            "('222997TJ', {'dep_data': [['Leslie', '20', 'HR', '1-01-2019'], ['Leslie', '20', 'HR', '2-01-2019'], ['Leslie', '20', 'HR', '3-01-2019'], ['Leslie', '20', 'HR', '4-01-2019'], ['Leslie', '20', 'HR', '5-01-2019'], ['Leslie', '20', 'HR', '6-01-2019'], ['Leslie', '20', 'HR', '7-01-2019'], ['Leslie', '20', 'HR', '8-01-2019'], ['Leslie', '20', 'HR', '9-01-2019'], ['Leslie', '20', 'HR', '10-01-2019'], ['Leslie', '20', 'HR', '11-01-2019'], ['Leslie', '20', 'HR', '12-01-2019'], ['Leslie', '20', 'HR', '13-01-2019'], ['Leslie', '20', 'HR', '14-01-2019'], ['Leslie', '20', 'HR', '15-01-2019'], ['Leslie', '20', 'HR', '16-01-2019'], ['Leslie', '20', 'HR', '17-01-2019'], ['Leslie', '20', 'HR', '18-01-2019'], ['Leslie', '20', 'HR', '19-01-2019'], ['Leslie', '20', 'HR', '20-01-2019'], ['Leslie', '20', 'HR', '21-01-2019'], ['Leslie', '20', 'HR', '22-01-2019'], ['Leslie', '20', 'HR', '23-01-2019'], ['Leslie', '20', 'HR', '24-01-2019'], ['Leslie', '20', 'HR', '25-01-2019'], ['Leslie', '20', 'HR', '26-01-2019'], ['Leslie', '20', 'HR', '27-01-2019'], ['Leslie', '20', 'HR', '28-01-2019'], ['Leslie', '20', 'HR', '29-01-2019'], ['Leslie', '20', 'HR', '30-01-2019'], ['Leslie', '20', 'HR', '31-01-2019']], 'loc_data': [['9410006713', 'Washington']]})\n",
            "('171752SY', {'dep_data': [['Mindy', '20', 'HR', '1-01-2019'], ['Mindy', '20', 'HR', '2-01-2019'], ['Mindy', '20', 'HR', '3-01-2019'], ['Mindy', '20', 'HR', '4-01-2019'], ['Mindy', '20', 'HR', '5-01-2019'], ['Mindy', '20', 'HR', '6-01-2019'], ['Mindy', '20', 'HR', '7-01-2019'], ['Mindy', '20', 'HR', '8-01-2019'], ['Mindy', '20', 'HR', '9-01-2019'], ['Mindy', '20', 'HR', '10-01-2019'], ['Mindy', '20', 'HR', '11-01-2019'], ['Mindy', '20', 'HR', '12-01-2019'], ['Mindy', '20', 'HR', '13-01-2019'], ['Mindy', '20', 'HR', '14-01-2019'], ['Mindy', '20', 'HR', '15-01-2019'], ['Mindy', '20', 'HR', '16-01-2019'], ['Mindy', '20', 'HR', '17-01-2019'], ['Mindy', '20', 'HR', '18-01-2019'], ['Mindy', '20', 'HR', '19-01-2019'], ['Mindy', '20', 'HR', '20-01-2019'], ['Mindy', '20', 'HR', '21-01-2019'], ['Mindy', '20', 'HR', '22-01-2019'], ['Mindy', '20', 'HR', '23-01-2019'], ['Mindy', '20', 'HR', '24-01-2019'], ['Mindy', '20', 'HR', '25-01-2019'], ['Mindy', '20', 'HR', '26-01-2019'], ['Mindy', '20', 'HR', '27-01-2019'], ['Mindy', '20', 'HR', '28-01-2019'], ['Mindy', '20', 'HR', '29-01-2019'], ['Mindy', '20', 'HR', '30-01-2019'], ['Mindy', '20', 'HR', '31-01-2019']], 'loc_data': [['9494683837', 'Boston']]})\n",
            "('153636AS', {'dep_data': [['Vicky', '20', 'HR', '1-01-2019'], ['Vicky', '20', 'HR', '2-01-2019'], ['Vicky', '20', 'HR', '3-01-2019'], ['Vicky', '20', 'HR', '4-01-2019'], ['Vicky', '20', 'HR', '5-01-2019'], ['Vicky', '20', 'HR', '6-01-2019'], ['Vicky', '20', 'HR', '7-01-2019'], ['Vicky', '20', 'HR', '8-01-2019'], ['Vicky', '20', 'HR', '9-01-2019'], ['Vicky', '20', 'HR', '10-01-2019'], ['Vicky', '20', 'HR', '11-01-2019'], ['Vicky', '20', 'HR', '12-01-2019'], ['Vicky', '20', 'HR', '13-01-2019'], ['Vicky', '20', 'HR', '14-01-2019'], ['Vicky', '20', 'HR', '15-01-2019'], ['Vicky', '20', 'HR', '16-01-2019'], ['Vicky', '20', 'HR', '17-01-2019'], ['Vicky', '20', 'HR', '18-01-2019'], ['Vicky', '20', 'HR', '19-01-2019'], ['Vicky', '20', 'HR', '20-01-2019'], ['Vicky', '20', 'HR', '21-01-2019'], ['Vicky', '20', 'HR', '22-01-2019'], ['Vicky', '20', 'HR', '23-01-2019'], ['Vicky', '20', 'HR', '24-01-2019'], ['Vicky', '20', 'HR', '25-01-2019'], ['Vicky', '20', 'HR', '26-01-2019'], ['Vicky', '20', 'HR', '27-01-2019'], ['Vicky', '20', 'HR', '28-01-2019'], ['Vicky', '20', 'HR', '29-01-2019'], ['Vicky', '20', 'HR', '30-01-2019'], ['Vicky', '20', 'HR', '31-01-2019']], 'loc_data': [['9575378417', 'New York']]})\n",
            "('745411HT', {'dep_data': [['Richard', '20', 'HR', '1-01-2019'], ['Richard', '20', 'HR', '2-01-2019'], ['Richard', '20', 'HR', '3-01-2019'], ['Richard', '20', 'HR', '4-01-2019'], ['Richard', '20', 'HR', '5-01-2019'], ['Richard', '20', 'HR', '6-01-2019'], ['Richard', '20', 'HR', '7-01-2019'], ['Richard', '20', 'HR', '8-01-2019'], ['Richard', '20', 'HR', '9-01-2019'], ['Richard', '20', 'HR', '10-01-2019'], ['Richard', '20', 'HR', '11-01-2019'], ['Richard', '20', 'HR', '12-01-2019'], ['Richard', '20', 'HR', '13-01-2019'], ['Richard', '20', 'HR', '14-01-2019'], ['Richard', '20', 'HR', '15-01-2019'], ['Richard', '20', 'HR', '16-01-2019'], ['Richard', '20', 'HR', '17-01-2019'], ['Richard', '20', 'HR', '18-01-2019'], ['Richard', '20', 'HR', '19-01-2019'], ['Richard', '20', 'HR', '20-01-2019'], ['Richard', '20', 'HR', '21-01-2019'], ['Richard', '20', 'HR', '22-01-2019'], ['Richard', '20', 'HR', '23-01-2019'], ['Richard', '20', 'HR', '24-01-2019'], ['Richard', '20', 'HR', '25-01-2019'], ['Richard', '20', 'HR', '26-01-2019'], ['Richard', '20', 'HR', '27-01-2019'], ['Richard', '20', 'HR', '28-01-2019'], ['Richard', '20', 'HR', '29-01-2019'], ['Richard', '20', 'HR', '30-01-2019'], ['Richard', '20', 'HR', '31-01-2019']], 'loc_data': [['9391632080', 'New York']]})\n",
            "('298464HN', {'dep_data': [['Kirk', '20', 'HR', '1-01-2019'], ['Kirk', '20', 'HR', '2-01-2019'], ['Kirk', '20', 'HR', '3-01-2019'], ['Kirk', '20', 'HR', '4-01-2019'], ['Kirk', '20', 'HR', '5-01-2019'], ['Kirk', '20', 'HR', '6-01-2019'], ['Kirk', '20', 'HR', '7-01-2019'], ['Kirk', '20', 'HR', '8-01-2019'], ['Kirk', '20', 'HR', '9-01-2019'], ['Kirk', '20', 'HR', '10-01-2019'], ['Kirk', '20', 'HR', '11-01-2019'], ['Kirk', '20', 'HR', '12-01-2019'], ['Kirk', '20', 'HR', '13-01-2019'], ['Kirk', '20', 'HR', '14-01-2019'], ['Kirk', '20', 'HR', '15-01-2019'], ['Kirk', '20', 'HR', '16-01-2019'], ['Kirk', '20', 'HR', '17-01-2019'], ['Kirk', '20', 'HR', '18-01-2019'], ['Kirk', '20', 'HR', '19-01-2019'], ['Kirk', '20', 'HR', '20-01-2019'], ['Kirk', '20', 'HR', '21-01-2019'], ['Kirk', '20', 'HR', '22-01-2019'], ['Kirk', '20', 'HR', '23-01-2019'], ['Kirk', '20', 'HR', '24-01-2019'], ['Kirk', '20', 'HR', '25-01-2019'], ['Kirk', '20', 'HR', '26-01-2019'], ['Kirk', '20', 'HR', '27-01-2019'], ['Kirk', '20', 'HR', '28-01-2019'], ['Kirk', '20', 'HR', '29-01-2019'], ['Kirk', '20', 'HR', '30-01-2019'], ['Kirk', '20', 'HR', '31-01-2019']], 'loc_data': [['9982641601', 'Miami']]})\n",
            "('783950BW', {'dep_data': [['Kaori', '20', 'HR', '1-01-2019'], ['Kaori', '20', 'HR', '2-01-2019'], ['Kaori', '20', 'HR', '3-01-2019'], ['Kaori', '20', 'HR', '4-01-2019'], ['Kaori', '20', 'HR', '5-01-2019'], ['Kaori', '20', 'HR', '6-01-2019'], ['Kaori', '20', 'HR', '7-01-2019'], ['Kaori', '20', 'HR', '8-01-2019'], ['Kaori', '20', 'HR', '9-01-2019'], ['Kaori', '20', 'HR', '10-01-2019'], ['Kaori', '20', 'HR', '11-01-2019'], ['Kaori', '20', 'HR', '12-01-2019'], ['Kaori', '20', 'HR', '13-01-2019'], ['Kaori', '20', 'HR', '14-01-2019'], ['Kaori', '20', 'HR', '15-01-2019'], ['Kaori', '20', 'HR', '16-01-2019'], ['Kaori', '20', 'HR', '17-01-2019'], ['Kaori', '20', 'HR', '18-01-2019'], ['Kaori', '20', 'HR', '19-01-2019'], ['Kaori', '20', 'HR', '20-01-2019'], ['Kaori', '20', 'HR', '21-01-2019'], ['Kaori', '20', 'HR', '22-01-2019'], ['Kaori', '20', 'HR', '23-01-2019'], ['Kaori', '20', 'HR', '24-01-2019'], ['Kaori', '20', 'HR', '25-01-2019'], ['Kaori', '20', 'HR', '26-01-2019'], ['Kaori', '20', 'HR', '27-01-2019'], ['Kaori', '20', 'HR', '28-01-2019'], ['Kaori', '20', 'HR', '29-01-2019'], ['Kaori', '20', 'HR', '30-01-2019'], ['Kaori', '20', 'HR', '31-01-2019']], 'loc_data': [['9248480224', 'Boston']]})\n",
            "('892691AR', {'dep_data': [['Beryl', '20', 'HR', '1-01-2019'], ['Beryl', '20', 'HR', '2-01-2019'], ['Beryl', '20', 'HR', '3-01-2019'], ['Beryl', '20', 'HR', '4-01-2019'], ['Beryl', '20', 'HR', '5-01-2019'], ['Beryl', '20', 'HR', '6-01-2019'], ['Beryl', '20', 'HR', '7-01-2019'], ['Beryl', '20', 'HR', '8-01-2019'], ['Beryl', '20', 'HR', '9-01-2019'], ['Beryl', '20', 'HR', '10-01-2019'], ['Beryl', '20', 'HR', '11-01-2019'], ['Beryl', '20', 'HR', '12-01-2019'], ['Beryl', '20', 'HR', '13-01-2019'], ['Beryl', '20', 'HR', '14-01-2019'], ['Beryl', '20', 'HR', '15-01-2019'], ['Beryl', '20', 'HR', '16-01-2019'], ['Beryl', '20', 'HR', '17-01-2019'], ['Beryl', '20', 'HR', '18-01-2019'], ['Beryl', '20', 'HR', '19-01-2019'], ['Beryl', '20', 'HR', '20-01-2019'], ['Beryl', '20', 'HR', '21-01-2019'], ['Beryl', '20', 'HR', '22-01-2019'], ['Beryl', '20', 'HR', '23-01-2019'], ['Beryl', '20', 'HR', '24-01-2019'], ['Beryl', '20', 'HR', '25-01-2019'], ['Beryl', '20', 'HR', '26-01-2019'], ['Beryl', '20', 'HR', '27-01-2019'], ['Beryl', '20', 'HR', '28-01-2019'], ['Beryl', '20', 'HR', '29-01-2019'], ['Beryl', '20', 'HR', '30-01-2019'], ['Beryl', '20', 'HR', '31-01-2019']], 'loc_data': [['9723803710', 'New York']]})\n",
            "('245668UZ', {'dep_data': [['Oscar', '20', 'HR', '1-01-2019'], ['Oscar', '20', 'HR', '2-01-2019'], ['Oscar', '20', 'HR', '3-01-2019'], ['Oscar', '20', 'HR', '4-01-2019'], ['Oscar', '20', 'HR', '5-01-2019'], ['Oscar', '20', 'HR', '6-01-2019'], ['Oscar', '20', 'HR', '7-01-2019'], ['Oscar', '20', 'HR', '8-01-2019'], ['Oscar', '20', 'HR', '9-01-2019'], ['Oscar', '20', 'HR', '10-01-2019'], ['Oscar', '20', 'HR', '11-01-2019'], ['Oscar', '20', 'HR', '12-01-2019'], ['Oscar', '20', 'HR', '13-01-2019'], ['Oscar', '20', 'HR', '14-01-2019'], ['Oscar', '20', 'HR', '15-01-2019'], ['Oscar', '20', 'HR', '16-01-2019'], ['Oscar', '20', 'HR', '17-01-2019'], ['Oscar', '20', 'HR', '18-01-2019'], ['Oscar', '20', 'HR', '19-01-2019'], ['Oscar', '20', 'HR', '20-01-2019'], ['Oscar', '20', 'HR', '21-01-2019'], ['Oscar', '20', 'HR', '22-01-2019'], ['Oscar', '20', 'HR', '23-01-2019'], ['Oscar', '20', 'HR', '24-01-2019'], ['Oscar', '20', 'HR', '25-01-2019'], ['Oscar', '20', 'HR', '26-01-2019'], ['Oscar', '20', 'HR', '27-01-2019'], ['Oscar', '20', 'HR', '28-01-2019'], ['Oscar', '20', 'HR', '29-01-2019'], ['Oscar', '20', 'HR', '30-01-2019'], ['Oscar', '20', 'HR', '31-01-2019']], 'loc_data': [['9395037841', 'New York']]})\n",
            "('231206QD', {'dep_data': [['Kumiko', '30', 'Finance', '1-01-2019'], ['Kumiko', '30', 'Finance', '2-01-2019'], ['Kumiko', '30', 'Finance', '3-01-2019'], ['Kumiko', '30', 'Finance', '4-01-2019'], ['Kumiko', '30', 'Finance', '5-01-2019'], ['Kumiko', '30', 'Finance', '6-01-2019'], ['Kumiko', '30', 'Finance', '7-01-2019'], ['Kumiko', '30', 'Finance', '8-01-2019'], ['Kumiko', '30', 'Finance', '9-01-2019'], ['Kumiko', '30', 'Finance', '10-01-2019'], ['Kumiko', '30', 'Finance', '11-01-2019'], ['Kumiko', '30', 'Finance', '12-01-2019'], ['Kumiko', '30', 'Finance', '13-01-2019'], ['Kumiko', '30', 'Finance', '14-01-2019'], ['Kumiko', '30', 'Finance', '15-01-2019'], ['Kumiko', '30', 'Finance', '16-01-2019'], ['Kumiko', '30', 'Finance', '17-01-2019'], ['Kumiko', '30', 'Finance', '18-01-2019'], ['Kumiko', '30', 'Finance', '19-01-2019'], ['Kumiko', '30', 'Finance', '20-01-2019'], ['Kumiko', '30', 'Finance', '21-01-2019'], ['Kumiko', '30', 'Finance', '22-01-2019'], ['Kumiko', '30', 'Finance', '23-01-2019'], ['Kumiko', '30', 'Finance', '24-01-2019'], ['Kumiko', '30', 'Finance', '25-01-2019'], ['Kumiko', '30', 'Finance', '26-01-2019'], ['Kumiko', '30', 'Finance', '27-01-2019'], ['Kumiko', '30', 'Finance', '28-01-2019'], ['Kumiko', '30', 'Finance', '29-01-2019'], ['Kumiko', '30', 'Finance', '30-01-2019'], ['Kumiko', '30', 'Finance', '31-01-2019']], 'loc_data': [['9608996582', 'Chicago']]})\n",
            "('357919KT', {'dep_data': [['Wendy', '30', 'Finance', '1-01-2019'], ['Wendy', '30', 'Finance', '2-01-2019'], ['Wendy', '30', 'Finance', '3-01-2019'], ['Wendy', '30', 'Finance', '4-01-2019'], ['Wendy', '30', 'Finance', '5-01-2019'], ['Wendy', '30', 'Finance', '6-01-2019'], ['Wendy', '30', 'Finance', '7-01-2019'], ['Wendy', '30', 'Finance', '8-01-2019'], ['Wendy', '30', 'Finance', '9-01-2019'], ['Wendy', '30', 'Finance', '10-01-2019'], ['Wendy', '30', 'Finance', '11-01-2019'], ['Wendy', '30', 'Finance', '12-01-2019'], ['Wendy', '30', 'Finance', '13-01-2019'], ['Wendy', '30', 'Finance', '14-01-2019'], ['Wendy', '30', 'Finance', '15-01-2019'], ['Wendy', '30', 'Finance', '16-01-2019'], ['Wendy', '30', 'Finance', '17-01-2019'], ['Wendy', '30', 'Finance', '18-01-2019'], ['Wendy', '30', 'Finance', '19-01-2019'], ['Wendy', '30', 'Finance', '20-01-2019'], ['Wendy', '30', 'Finance', '21-01-2019'], ['Wendy', '30', 'Finance', '22-01-2019'], ['Wendy', '30', 'Finance', '23-01-2019'], ['Wendy', '30', 'Finance', '24-01-2019'], ['Wendy', '30', 'Finance', '25-01-2019'], ['Wendy', '30', 'Finance', '26-01-2019'], ['Wendy', '30', 'Finance', '27-01-2019'], ['Wendy', '30', 'Finance', '28-01-2019'], ['Wendy', '30', 'Finance', '29-01-2019'], ['Wendy', '30', 'Finance', '30-01-2019'], ['Wendy', '30', 'Finance', '31-01-2019']], 'loc_data': [['9935208129', 'New York']]})\n"
          ]
        }
      ]
    }
  ]
}